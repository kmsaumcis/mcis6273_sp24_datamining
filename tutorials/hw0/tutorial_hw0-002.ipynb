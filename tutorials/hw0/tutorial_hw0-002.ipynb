{
 "cells": [
  {
   "cell_type": "markdown",
   "id": "27d8556e-b176-4be4-bc90-348b63d14ab1",
   "metadata": {},
   "source": [
    "# let's make some fake files"
   ]
  },
  {
   "cell_type": "code",
   "execution_count": 1,
   "id": "f822bb1f-fd15-4294-a410-aaa9dd6e09ad",
   "metadata": {},
   "outputs": [],
   "source": [
    "data = {\n",
    "    \"col1\": [\"data1\"],\n",
    "    \"col2\": [\"data2\"],\n",
    "    \"col3\": [\"data3\"],\n",
    "    \"col4\": [\"data4\"]\n",
    "}    "
   ]
  },
  {
   "cell_type": "code",
   "execution_count": 2,
   "id": "9e6af4be-4069-4f99-b882-eaa2c4b398c1",
   "metadata": {},
   "outputs": [],
   "source": [
    "## we're doing this so if you don't have the folder, make it!\n",
    "import os\n",
    "if not os.path.exists(\"fake_data\"):\n",
    "    os.mkdir(\"./fake_data\")"
   ]
  },
  {
   "cell_type": "code",
   "execution_count": 3,
   "id": "7eff05c9-d8b0-4f41-8afb-466c5c1c343c",
   "metadata": {},
   "outputs": [],
   "source": [
    "import pandas as pd"
   ]
  },
  {
   "cell_type": "markdown",
   "id": "cd9b7ab9-3dce-4293-bc50-51f141ef3555",
   "metadata": {},
   "source": [
    "## notice we can create a dataframe from a dictionary"
   ]
  },
  {
   "cell_type": "code",
   "execution_count": 4,
   "id": "9470a748-ac83-4c6d-8c15-466d6a3124a2",
   "metadata": {},
   "outputs": [
    {
     "data": {
      "text/html": [
       "<div>\n",
       "<style scoped>\n",
       "    .dataframe tbody tr th:only-of-type {\n",
       "        vertical-align: middle;\n",
       "    }\n",
       "\n",
       "    .dataframe tbody tr th {\n",
       "        vertical-align: top;\n",
       "    }\n",
       "\n",
       "    .dataframe thead th {\n",
       "        text-align: right;\n",
       "    }\n",
       "</style>\n",
       "<table border=\"1\" class=\"dataframe\">\n",
       "  <thead>\n",
       "    <tr style=\"text-align: right;\">\n",
       "      <th></th>\n",
       "      <th>col1</th>\n",
       "      <th>col2</th>\n",
       "      <th>col3</th>\n",
       "      <th>col4</th>\n",
       "    </tr>\n",
       "  </thead>\n",
       "  <tbody>\n",
       "    <tr>\n",
       "      <th>0</th>\n",
       "      <td>data1</td>\n",
       "      <td>data2</td>\n",
       "      <td>data3</td>\n",
       "      <td>data4</td>\n",
       "    </tr>\n",
       "  </tbody>\n",
       "</table>\n",
       "</div>"
      ],
      "text/plain": [
       "    col1   col2   col3   col4\n",
       "0  data1  data2  data3  data4"
      ]
     },
     "execution_count": 4,
     "metadata": {},
     "output_type": "execute_result"
    }
   ],
   "source": [
    "pd.DataFrame().from_dict(data)"
   ]
  },
  {
   "cell_type": "markdown",
   "id": "b92ee6c5-4dd0-4b49-a2b1-6981d7ffdd70",
   "metadata": {},
   "source": [
    "## this is how we could generate 10 files ... with the data"
   ]
  },
  {
   "cell_type": "code",
   "execution_count": 5,
   "id": "e3e21df8-30b4-4488-9956-58440c74241a",
   "metadata": {},
   "outputs": [],
   "source": [
    "# generate 10 files\n",
    "for i in range(0,10):\n",
    "    pd.DataFrame().from_dict(data).to_json(f\"fake_data/file{i:003}.json\")"
   ]
  },
  {
   "cell_type": "markdown",
   "id": "879ff9fc-0be0-4719-a183-a7459fa23391",
   "metadata": {},
   "source": [
    "## this is how we could load all of those files into a single dataframe"
   ]
  },
  {
   "cell_type": "code",
   "execution_count": 6,
   "id": "76755893-15ec-464f-8884-a217ca0bc30c",
   "metadata": {},
   "outputs": [],
   "source": [
    "combined_df = pd.DataFrame() # empty dataframe for our fake data\n",
    "\n",
    "for i in range(0,10):\n",
    "    _tmp_df = pd.read_json(f\"fake_data/file{i:003}.json\")\n",
    "\n",
    "    combined_df = pd.concat([combined_df, _tmp_df]) # concat takes a list of what you want to combine"
   ]
  },
  {
   "cell_type": "code",
   "execution_count": 7,
   "id": "a649e7c9-788d-466b-bae3-d05241376e55",
   "metadata": {},
   "outputs": [
    {
     "data": {
      "text/html": [
       "<div>\n",
       "<style scoped>\n",
       "    .dataframe tbody tr th:only-of-type {\n",
       "        vertical-align: middle;\n",
       "    }\n",
       "\n",
       "    .dataframe tbody tr th {\n",
       "        vertical-align: top;\n",
       "    }\n",
       "\n",
       "    .dataframe thead th {\n",
       "        text-align: right;\n",
       "    }\n",
       "</style>\n",
       "<table border=\"1\" class=\"dataframe\">\n",
       "  <thead>\n",
       "    <tr style=\"text-align: right;\">\n",
       "      <th></th>\n",
       "      <th>col1</th>\n",
       "      <th>col2</th>\n",
       "      <th>col3</th>\n",
       "      <th>col4</th>\n",
       "    </tr>\n",
       "  </thead>\n",
       "  <tbody>\n",
       "    <tr>\n",
       "      <th>0</th>\n",
       "      <td>data1</td>\n",
       "      <td>data2</td>\n",
       "      <td>data3</td>\n",
       "      <td>data4</td>\n",
       "    </tr>\n",
       "    <tr>\n",
       "      <th>0</th>\n",
       "      <td>data1</td>\n",
       "      <td>data2</td>\n",
       "      <td>data3</td>\n",
       "      <td>data4</td>\n",
       "    </tr>\n",
       "    <tr>\n",
       "      <th>0</th>\n",
       "      <td>data1</td>\n",
       "      <td>data2</td>\n",
       "      <td>data3</td>\n",
       "      <td>data4</td>\n",
       "    </tr>\n",
       "    <tr>\n",
       "      <th>0</th>\n",
       "      <td>data1</td>\n",
       "      <td>data2</td>\n",
       "      <td>data3</td>\n",
       "      <td>data4</td>\n",
       "    </tr>\n",
       "    <tr>\n",
       "      <th>0</th>\n",
       "      <td>data1</td>\n",
       "      <td>data2</td>\n",
       "      <td>data3</td>\n",
       "      <td>data4</td>\n",
       "    </tr>\n",
       "    <tr>\n",
       "      <th>0</th>\n",
       "      <td>data1</td>\n",
       "      <td>data2</td>\n",
       "      <td>data3</td>\n",
       "      <td>data4</td>\n",
       "    </tr>\n",
       "    <tr>\n",
       "      <th>0</th>\n",
       "      <td>data1</td>\n",
       "      <td>data2</td>\n",
       "      <td>data3</td>\n",
       "      <td>data4</td>\n",
       "    </tr>\n",
       "    <tr>\n",
       "      <th>0</th>\n",
       "      <td>data1</td>\n",
       "      <td>data2</td>\n",
       "      <td>data3</td>\n",
       "      <td>data4</td>\n",
       "    </tr>\n",
       "    <tr>\n",
       "      <th>0</th>\n",
       "      <td>data1</td>\n",
       "      <td>data2</td>\n",
       "      <td>data3</td>\n",
       "      <td>data4</td>\n",
       "    </tr>\n",
       "    <tr>\n",
       "      <th>0</th>\n",
       "      <td>data1</td>\n",
       "      <td>data2</td>\n",
       "      <td>data3</td>\n",
       "      <td>data4</td>\n",
       "    </tr>\n",
       "  </tbody>\n",
       "</table>\n",
       "</div>"
      ],
      "text/plain": [
       "    col1   col2   col3   col4\n",
       "0  data1  data2  data3  data4\n",
       "0  data1  data2  data3  data4\n",
       "0  data1  data2  data3  data4\n",
       "0  data1  data2  data3  data4\n",
       "0  data1  data2  data3  data4\n",
       "0  data1  data2  data3  data4\n",
       "0  data1  data2  data3  data4\n",
       "0  data1  data2  data3  data4\n",
       "0  data1  data2  data3  data4\n",
       "0  data1  data2  data3  data4"
      ]
     },
     "execution_count": 7,
     "metadata": {},
     "output_type": "execute_result"
    }
   ],
   "source": [
    "combined_df"
   ]
  },
  {
   "cell_type": "markdown",
   "id": "6341da72-5c3b-4ea4-beea-7957fde1b9a8",
   "metadata": {},
   "source": [
    "## notice the index is wrong, so let's reset the index"
   ]
  },
  {
   "cell_type": "code",
   "execution_count": 8,
   "id": "721ba8c7-22bc-4f49-8798-f34dac43c787",
   "metadata": {},
   "outputs": [
    {
     "data": {
      "text/html": [
       "<div>\n",
       "<style scoped>\n",
       "    .dataframe tbody tr th:only-of-type {\n",
       "        vertical-align: middle;\n",
       "    }\n",
       "\n",
       "    .dataframe tbody tr th {\n",
       "        vertical-align: top;\n",
       "    }\n",
       "\n",
       "    .dataframe thead th {\n",
       "        text-align: right;\n",
       "    }\n",
       "</style>\n",
       "<table border=\"1\" class=\"dataframe\">\n",
       "  <thead>\n",
       "    <tr style=\"text-align: right;\">\n",
       "      <th></th>\n",
       "      <th>index</th>\n",
       "      <th>col1</th>\n",
       "      <th>col2</th>\n",
       "      <th>col3</th>\n",
       "      <th>col4</th>\n",
       "    </tr>\n",
       "  </thead>\n",
       "  <tbody>\n",
       "    <tr>\n",
       "      <th>0</th>\n",
       "      <td>0</td>\n",
       "      <td>data1</td>\n",
       "      <td>data2</td>\n",
       "      <td>data3</td>\n",
       "      <td>data4</td>\n",
       "    </tr>\n",
       "    <tr>\n",
       "      <th>1</th>\n",
       "      <td>0</td>\n",
       "      <td>data1</td>\n",
       "      <td>data2</td>\n",
       "      <td>data3</td>\n",
       "      <td>data4</td>\n",
       "    </tr>\n",
       "    <tr>\n",
       "      <th>2</th>\n",
       "      <td>0</td>\n",
       "      <td>data1</td>\n",
       "      <td>data2</td>\n",
       "      <td>data3</td>\n",
       "      <td>data4</td>\n",
       "    </tr>\n",
       "    <tr>\n",
       "      <th>3</th>\n",
       "      <td>0</td>\n",
       "      <td>data1</td>\n",
       "      <td>data2</td>\n",
       "      <td>data3</td>\n",
       "      <td>data4</td>\n",
       "    </tr>\n",
       "    <tr>\n",
       "      <th>4</th>\n",
       "      <td>0</td>\n",
       "      <td>data1</td>\n",
       "      <td>data2</td>\n",
       "      <td>data3</td>\n",
       "      <td>data4</td>\n",
       "    </tr>\n",
       "    <tr>\n",
       "      <th>5</th>\n",
       "      <td>0</td>\n",
       "      <td>data1</td>\n",
       "      <td>data2</td>\n",
       "      <td>data3</td>\n",
       "      <td>data4</td>\n",
       "    </tr>\n",
       "    <tr>\n",
       "      <th>6</th>\n",
       "      <td>0</td>\n",
       "      <td>data1</td>\n",
       "      <td>data2</td>\n",
       "      <td>data3</td>\n",
       "      <td>data4</td>\n",
       "    </tr>\n",
       "    <tr>\n",
       "      <th>7</th>\n",
       "      <td>0</td>\n",
       "      <td>data1</td>\n",
       "      <td>data2</td>\n",
       "      <td>data3</td>\n",
       "      <td>data4</td>\n",
       "    </tr>\n",
       "    <tr>\n",
       "      <th>8</th>\n",
       "      <td>0</td>\n",
       "      <td>data1</td>\n",
       "      <td>data2</td>\n",
       "      <td>data3</td>\n",
       "      <td>data4</td>\n",
       "    </tr>\n",
       "    <tr>\n",
       "      <th>9</th>\n",
       "      <td>0</td>\n",
       "      <td>data1</td>\n",
       "      <td>data2</td>\n",
       "      <td>data3</td>\n",
       "      <td>data4</td>\n",
       "    </tr>\n",
       "  </tbody>\n",
       "</table>\n",
       "</div>"
      ],
      "text/plain": [
       "   index   col1   col2   col3   col4\n",
       "0      0  data1  data2  data3  data4\n",
       "1      0  data1  data2  data3  data4\n",
       "2      0  data1  data2  data3  data4\n",
       "3      0  data1  data2  data3  data4\n",
       "4      0  data1  data2  data3  data4\n",
       "5      0  data1  data2  data3  data4\n",
       "6      0  data1  data2  data3  data4\n",
       "7      0  data1  data2  data3  data4\n",
       "8      0  data1  data2  data3  data4\n",
       "9      0  data1  data2  data3  data4"
      ]
     },
     "execution_count": 8,
     "metadata": {},
     "output_type": "execute_result"
    }
   ],
   "source": [
    "combined_df.reset_index()"
   ]
  },
  {
   "cell_type": "code",
   "execution_count": 9,
   "id": "bacbfab6-a41a-459b-ba90-0c3cbad8bbcb",
   "metadata": {},
   "outputs": [],
   "source": [
    "combined_df = combined_df.reset_index()"
   ]
  }
 ],
 "metadata": {
  "kernelspec": {
   "display_name": "Python [conda env:sau24s]",
   "language": "python",
   "name": "conda-env-sau24s-py"
  },
  "language_info": {
   "codemirror_mode": {
    "name": "ipython",
    "version": 3
   },
   "file_extension": ".py",
   "mimetype": "text/x-python",
   "name": "python",
   "nbconvert_exporter": "python",
   "pygments_lexer": "ipython3",
   "version": "3.8.18"
  }
 },
 "nbformat": 4,
 "nbformat_minor": 5
}
